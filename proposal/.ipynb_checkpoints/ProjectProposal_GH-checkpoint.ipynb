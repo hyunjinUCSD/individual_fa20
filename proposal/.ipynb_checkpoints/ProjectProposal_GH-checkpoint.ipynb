{
 "cells": [
  {
   "cell_type": "markdown",
   "metadata": {},
   "source": [
    "# COGS 108 - Project Proposal"
   ]
  },
  {
   "cell_type": "markdown",
   "metadata": {},
   "source": [
    "# Names & GitHub ID\n",
    "\n",
    "- Name: Hyunjin Shin\n",
    "- GitHub Username: hyunjinUCSD"
   ]
  },
  {
   "cell_type": "markdown",
   "metadata": {},
   "source": [
    "# Research Question"
   ]
  },
  {
   "cell_type": "markdown",
   "metadata": {},
   "source": [
    "Will increasing the number of water fountains at Balboa Park encourage improve the overall experience of park goers and encourage them to stay at the park for a longer duration?"
   ]
  },
  {
   "cell_type": "markdown",
   "metadata": {},
   "source": [
    "## Background and Prior Work"
   ]
  },
  {
   "cell_type": "markdown",
   "metadata": {},
   "source": [
    "During a recent trip to Balboa Park with my girlfriend, we felt a rush of thirst while exploring the vast park. Unfortunately, we could not find many water fountains or vendors throughout the main streets of the park. The park has some areas that sell food, but it is difficult to know where to purchase drinks, and the idea of paying for a beverage while “strolling along a park” seemed offputting. People usually visit parks to relax and enjoy the scenery and experience. Balboa Park is different from an amusement park because it is open to the public. However, due to the size of the park and lack of shade, it is easy for people to get quickly dehydrated. Studies show that water is important when exercising. The amount of walking visitors do while visiting the park can easily lead to dehydration, and the lack of fountains could potentially cause severe dehydration and discomfort to the park goers \n",
    "\n",
    "- 1) http://www.med.umich.edu/1libr/Mhealthy/TheImportanceofWaterWhileExercising.pdf (\"The Importance of Water While Excersing\", researched by the MHealthy Physical Activity Program)"
   ]
  },
  {
   "cell_type": "markdown",
   "metadata": {},
   "source": [
    "# Hypothesis\n"
   ]
  },
  {
   "cell_type": "markdown",
   "metadata": {},
   "source": [
    "I hypothesize that installing water fountains that provide clean, fresh water in high traffic areas will greaty improve the experience of Balboa Park visitors. Preventing dehydration and giving people the energy to walk longer distances and for a greater period of time will encourage park visitors to explore all the different museums, sites, and attractions the park has to offer. The fountains could be designed to blend in with each area of the park so that it becomes not only a practical and functional addition, but also an art installation that does not disrupt the beauty of the architecture."
   ]
  },
  {
   "cell_type": "markdown",
   "metadata": {},
   "source": [
    "# Data"
   ]
  },
  {
   "cell_type": "markdown",
   "metadata": {},
   "source": [
    "Dataset Name: BacteriaTest\n",
    "- Dataset link: https://data.sandiego.gov/datasets/monitoring-of-indicator-bacteria-in-drinking-water/\n",
    "- Variable: Source, CL2, Temperature, PH\n",
    "- How many observations: 60\n",
    "- Who: City of San Diego provided the dataset\n",
    "- What: The bacteria test provides results of 60 water samples that were sampled on Oct 22, 2020\n",
    "- Why: To locate the source of water for the water fountains and evaluating if it is safe to drink \n",
    "- How would these data be stored?: the data is already stored in 'csv' file with their unique IDs ('FR_NUM' in this dataset). "
   ]
  },
  {
   "cell_type": "markdown",
   "metadata": {},
   "source": [
    "# Ethics & Privacy"
   ]
  },
  {
   "cell_type": "markdown",
   "metadata": {},
   "source": [
    "One of the main concerns that I have about the dataset is that it doesn't include various factors fostering the bacteria other than CL2, temperature and PH value. Hence, it's possible that water coming out from the water fountain can potentially include bacteria. However, my project data does indicate that San Diego water in general is good to drink and safe to install in the park. While installing the fountain, incorporating a filtration system could also be beneficial and prevent any worries about bacteria contaminating the water. "
   ]
  }
 ],
 "metadata": {
  "kernelspec": {
   "display_name": "Python 3",
   "language": "python",
   "name": "python3"
  },
  "language_info": {
   "codemirror_mode": {
    "name": "ipython",
    "version": 3
   },
   "file_extension": ".py",
   "mimetype": "text/x-python",
   "name": "python",
   "nbconvert_exporter": "python",
   "pygments_lexer": "ipython3",
   "version": "3.8.3"
  }
 },
 "nbformat": 4,
 "nbformat_minor": 2
}
